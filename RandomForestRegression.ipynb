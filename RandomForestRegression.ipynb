{
 "cells": [
  {
   "cell_type": "markdown",
   "metadata": {},
   "source": [
    "# Load the Dependencies"
   ]
  },
  {
   "cell_type": "code",
   "execution_count": 1,
   "metadata": {},
   "outputs": [],
   "source": [
    "import ipywidgets as widgets\n",
    "from IPython.display import display\n",
    "\n",
    "style = {'description_width': 'initial'}"
   ]
  },
  {
   "cell_type": "code",
   "execution_count": 2,
   "metadata": {
    "colab": {},
    "colab_type": "code",
    "id": "6BZ-jLOunczC"
   },
   "outputs": [],
   "source": [
    "#1 Importing essential libraries\n",
    "import pandas as pd\n",
    "import numpy as np\n",
    "%matplotlib inline\n",
    "import matplotlib.pyplot as plt"
   ]
  },
  {
   "cell_type": "markdown",
   "metadata": {},
   "source": [
    "# Load the Dataset"
   ]
  },
  {
   "cell_type": "code",
   "execution_count": 3,
   "metadata": {
    "colab": {},
    "colab_type": "code",
    "id": "WKtERLr9n09B"
   },
   "outputs": [],
   "source": [
    "#2 Importing the dataset\n",
    "\n",
    "file_name = 'beer_data.csv'\n",
    "dataset = pd.read_csv(file_name)"
   ]
  },
  {
   "cell_type": "code",
   "execution_count": 4,
   "metadata": {},
   "outputs": [
    {
     "data": {
      "text/html": [
       "<div>\n",
       "<style scoped>\n",
       "    .dataframe tbody tr th:only-of-type {\n",
       "        vertical-align: middle;\n",
       "    }\n",
       "\n",
       "    .dataframe tbody tr th {\n",
       "        vertical-align: top;\n",
       "    }\n",
       "\n",
       "    .dataframe thead th {\n",
       "        text-align: right;\n",
       "    }\n",
       "</style>\n",
       "<table border=\"1\" class=\"dataframe\">\n",
       "  <thead>\n",
       "    <tr style=\"text-align: right;\">\n",
       "      <th></th>\n",
       "      <th>ABV</th>\n",
       "      <th>Ratings</th>\n",
       "      <th>Cellar Temperature</th>\n",
       "      <th>Score</th>\n",
       "    </tr>\n",
       "  </thead>\n",
       "  <tbody>\n",
       "    <tr>\n",
       "      <th>0</th>\n",
       "      <td>7.5</td>\n",
       "      <td>1</td>\n",
       "      <td>40-45</td>\n",
       "      <td>4.08</td>\n",
       "    </tr>\n",
       "    <tr>\n",
       "      <th>1</th>\n",
       "      <td>5.3</td>\n",
       "      <td>22</td>\n",
       "      <td>40-45</td>\n",
       "      <td>3.82</td>\n",
       "    </tr>\n",
       "    <tr>\n",
       "      <th>2</th>\n",
       "      <td>9.0</td>\n",
       "      <td>1</td>\n",
       "      <td>45-50</td>\n",
       "      <td>4.03</td>\n",
       "    </tr>\n",
       "    <tr>\n",
       "      <th>3</th>\n",
       "      <td>4.6</td>\n",
       "      <td>1</td>\n",
       "      <td>35-40</td>\n",
       "      <td>4.00</td>\n",
       "    </tr>\n",
       "    <tr>\n",
       "      <th>4</th>\n",
       "      <td>6.9</td>\n",
       "      <td>1</td>\n",
       "      <td>45-50</td>\n",
       "      <td>3.75</td>\n",
       "    </tr>\n",
       "    <tr>\n",
       "      <th>5</th>\n",
       "      <td>7.9</td>\n",
       "      <td>32</td>\n",
       "      <td>40-45</td>\n",
       "      <td>4.26</td>\n",
       "    </tr>\n",
       "    <tr>\n",
       "      <th>6</th>\n",
       "      <td>4.7</td>\n",
       "      <td>141</td>\n",
       "      <td>35-40</td>\n",
       "      <td>3.47</td>\n",
       "    </tr>\n",
       "    <tr>\n",
       "      <th>7</th>\n",
       "      <td>5.6</td>\n",
       "      <td>1</td>\n",
       "      <td>40-45</td>\n",
       "      <td>3.70</td>\n",
       "    </tr>\n",
       "  </tbody>\n",
       "</table>\n",
       "</div>"
      ],
      "text/plain": [
       "   ABV  Ratings Cellar Temperature  Score\n",
       "0  7.5        1              40-45   4.08\n",
       "1  5.3       22              40-45   3.82\n",
       "2  9.0        1              45-50   4.03\n",
       "3  4.6        1              35-40   4.00\n",
       "4  6.9        1              45-50   3.75\n",
       "5  7.9       32              40-45   4.26\n",
       "6  4.7      141              35-40   3.47\n",
       "7  5.6        1              40-45   3.70"
      ]
     },
     "execution_count": 4,
     "metadata": {},
     "output_type": "execute_result"
    }
   ],
   "source": [
    "#Displaying the dataset\n",
    "dataset.head(8)"
   ]
  },
  {
   "cell_type": "code",
   "execution_count": 5,
   "metadata": {},
   "outputs": [
    {
     "name": "stdout",
     "output_type": "stream",
     "text": [
      "Dataset has 1631 rows and 4 columns.\n"
     ]
    }
   ],
   "source": [
    "print(f\"Dataset has {dataset.shape[0]} rows and {dataset.shape[1]} columns.\")"
   ]
  },
  {
   "cell_type": "markdown",
   "metadata": {},
   "source": [
    "## Feature Engineering"
   ]
  },
  {
   "cell_type": "markdown",
   "metadata": {},
   "source": [
    "#### Drop Nulls and Fill Nulls Based on Mean"
   ]
  },
  {
   "cell_type": "code",
   "execution_count": 6,
   "metadata": {},
   "outputs": [
    {
     "data": {
      "text/plain": [
       "ABV                   0\n",
       "Ratings               0\n",
       "Cellar Temperature    0\n",
       "Score                 0\n",
       "dtype: int64"
      ]
     },
     "execution_count": 6,
     "metadata": {},
     "output_type": "execute_result"
    }
   ],
   "source": [
    "#check nulls..\n",
    "\n",
    "dataset.isnull().sum()"
   ]
  },
  {
   "cell_type": "code",
   "execution_count": 7,
   "metadata": {},
   "outputs": [],
   "source": [
    "dataset = dataset[~dataset['Cellar Temperature'].isna()]\n",
    "dataset.reset_index(inplace=True, drop=True)"
   ]
  },
  {
   "cell_type": "code",
   "execution_count": 8,
   "metadata": {},
   "outputs": [],
   "source": [
    "dataset['ABV'].fillna(dataset['ABV'].mean(), inplace=True)"
   ]
  },
  {
   "cell_type": "code",
   "execution_count": 10,
   "metadata": {},
   "outputs": [],
   "source": [
    "# Dealing with the categorical data\n",
    "\n",
    "# Spliting Cellar Temperature into Maximum and Minimum based on the given data and converting the type from str to int\n",
    "\n",
    "dataset.loc[:, 'Minimum_Cellar_Temp'] = dataset['Cellar Temperature'].apply(lambda x : int(str(x).split('-')[0].strip()))\n",
    "dataset.loc[:, 'Maximum_Cellar_Temp'] = dataset['Cellar Temperature'].apply(lambda x : int(str(x).split('-')[1].strip()))"
   ]
  },
  {
   "cell_type": "code",
   "execution_count": 11,
   "metadata": {},
   "outputs": [
    {
     "data": {
      "text/plain": [
       "['ABV', 'Ratings', 'Score', 'Minimum_Cellar_Temp', 'Maximum_Cellar_Temp']"
      ]
     },
     "execution_count": 11,
     "metadata": {},
     "output_type": "execute_result"
    }
   ],
   "source": [
    "dataset.drop('Cellar Temperature', inplace=True, axis=1)\n",
    "dataset.columns.tolist()"
   ]
  },
  {
   "cell_type": "code",
   "execution_count": 12,
   "metadata": {
    "colab": {},
    "colab_type": "code",
    "id": "G5WuUWRFn4j8"
   },
   "outputs": [],
   "source": [
    "# classify dependent and independent variables\n",
    "X = dataset[[col for col in dataset.columns if col not in ('Score')]].values  #independent variables \n",
    "y = dataset['Score'].values  #dependent variable "
   ]
  },
  {
   "cell_type": "code",
   "execution_count": 13,
   "metadata": {
    "colab": {},
    "colab_type": "code",
    "id": "-bZ82kVbn7Ga"
   },
   "outputs": [
    {
     "name": "stdout",
     "output_type": "stream",
     "text": [
      "\n",
      "Idependent Variables :\n",
      "\n",
      " [[ 7.5  1.  40.  45. ]\n",
      " [ 5.3 22.  40.  45. ]\n",
      " [ 9.   1.  45.  50. ]\n",
      " [ 4.6  1.  35.  40. ]\n",
      " [ 6.9  1.  45.  50. ]]\n",
      "\n",
      "Dependent Variable (Score):\n",
      "\n",
      " [4.08 3.82 4.03 4.   3.75]\n"
     ]
    }
   ],
   "source": [
    "print(\"\\nIdependent Variables :\\n\\n\", X[:5])\n",
    "print(\"\\nDependent Variable (Score):\\n\\n\", y[:5])"
   ]
  },
  {
   "cell_type": "markdown",
   "metadata": {},
   "source": [
    "# Create Train and Test Sets"
   ]
  },
  {
   "cell_type": "code",
   "execution_count": 14,
   "metadata": {
    "colab": {},
    "colab_type": "code",
    "id": "BFMIwI5Zn9MX"
   },
   "outputs": [
    {
     "data": {
      "application/vnd.jupyter.widget-view+json": {
       "model_id": "4eeb95952deb4c428baf8b747a2c722e",
       "version_major": 2,
       "version_minor": 0
      },
      "text/plain": [
       "FloatSlider(value=0.2, description='Test Size :', max=0.6, min=0.01)"
      ]
     },
     "metadata": {},
     "output_type": "display_data"
    }
   ],
   "source": [
    "#4 Creating training set and testing set\n",
    "from sklearn.model_selection import train_test_split\n",
    "test_size = widgets.FloatSlider(min=0.01, max=0.6, value=0.2, description=\"Test Size :\", tooltips=['Usually 20-30%'])\n",
    "display(test_size)"
   ]
  },
  {
   "cell_type": "code",
   "execution_count": 15,
   "metadata": {},
   "outputs": [],
   "source": [
    "#Divide the dataset into Train and Test sets\n",
    "X_train, X_test, y_train, y_test = train_test_split(X ,y, test_size=test_size.value, random_state = 0) "
   ]
  },
  {
   "cell_type": "code",
   "execution_count": 16,
   "metadata": {
    "colab": {},
    "colab_type": "code",
    "id": "YcY06YGDn_dz"
   },
   "outputs": [
    {
     "name": "stdout",
     "output_type": "stream",
     "text": [
      "Training Set :\n",
      "----------------\n",
      "\n",
      "X = \n",
      " [[ 5.2  5.  40.  45. ]\n",
      " [ 5.6  1.  35.  40. ]\n",
      " [ 4.8  2.  40.  45. ]\n",
      " [ 6.5  3.  40.  45. ]\n",
      " [ 5.1  0.  40.  45. ]]\n",
      "y = \n",
      " [3.79 3.9  3.44 3.21 0.  ]\n",
      "\n",
      "\n",
      "Test Set :\n",
      "----------------\n",
      "\n",
      "X = \n",
      " [[ 4.8  2.  35.  40. ]\n",
      " [ 5.1  0.  35.  40. ]\n",
      " [ 4.   3.  40.  45. ]\n",
      " [ 7.5  3.  45.  50. ]\n",
      " [10.6  2.  45.  50. ]]\n",
      "y = \n",
      " [3.13 0.   2.82 3.91 4.38]\n"
     ]
    }
   ],
   "source": [
    "print(\"Training Set :\\n----------------\\n\")\n",
    "print(\"X = \\n\", X_train[:5])\n",
    "print(\"y = \\n\", y_train[:5])\n",
    "\n",
    "print(\"\\n\\nTest Set :\\n----------------\\n\")\n",
    "print(\"X = \\n\",X_test[:5])\n",
    "print(\"y = \\n\", y_test[:5])"
   ]
  },
  {
   "cell_type": "code",
   "execution_count": 17,
   "metadata": {},
   "outputs": [
    {
     "name": "stdout",
     "output_type": "stream",
     "text": [
      "Shape of Training set is (1304, 4)\n",
      "Shape of Testing set is (327, 4)\n"
     ]
    }
   ],
   "source": [
    "print(f\"Shape of Training set is {X_train.shape}\")\n",
    "print(f\"Shape of Testing set is {X_test.shape}\")"
   ]
  },
  {
   "cell_type": "markdown",
   "metadata": {},
   "source": [
    "# Apply Random Forest Regression "
   ]
  },
  {
   "cell_type": "code",
   "execution_count": 18,
   "metadata": {},
   "outputs": [
    {
     "data": {
      "application/vnd.jupyter.widget-view+json": {
       "model_id": "66160ef0a5dc4ae88506f4445020588b",
       "version_major": 2,
       "version_minor": 0
      },
      "text/plain": [
       "ToggleButtons(description='Number of features for the best split :', options=('log2', 'sqrt', 'auto'), style=T…"
      ]
     },
     "metadata": {},
     "output_type": "display_data"
    },
    {
     "data": {
      "application/vnd.jupyter.widget-view+json": {
       "model_id": "742a9f6785a7431ebc0e1fa6becf01d8",
       "version_major": 2,
       "version_minor": 0
      },
      "text/plain": [
       "Dropdown(description='The maximum depth of the Tree. :', options=(10, 20, 30, 50), style=DescriptionStyle(desc…"
      ]
     },
     "metadata": {},
     "output_type": "display_data"
    },
    {
     "data": {
      "application/vnd.jupyter.widget-view+json": {
       "model_id": "4179b8cc62084513b1c5bb52e48501c5",
       "version_major": 2,
       "version_minor": 0
      },
      "text/plain": [
       "Dropdown(description='Minimum Number of Splits. :', options=(100, 200, 300, 500), style=DescriptionStyle(descr…"
      ]
     },
     "metadata": {},
     "output_type": "display_data"
    },
    {
     "data": {
      "application/vnd.jupyter.widget-view+json": {
       "model_id": "cd1e52c2f4b64f8d965ff0469b554927",
       "version_major": 2,
       "version_minor": 0
      },
      "text/plain": [
       "Dropdown(description='Number of CPU Cores :', options=(('One', 1), ('Two', 2), ('Three', 3), ('All Cores', -1)…"
      ]
     },
     "metadata": {},
     "output_type": "display_data"
    }
   ],
   "source": [
    "# import random forest library\n",
    "from sklearn.ensemble import RandomForestRegressor\n",
    "\n",
    "# configure params for the model.\n",
    "max_feat_wig = widgets.ToggleButtons(options=['log2', 'sqrt', 'auto'],\n",
    "                                    description='Number of features for the best split :',\n",
    "                                    disabled=False,\n",
    "                                    style=style)\n",
    "\n",
    "display(max_feat_wig)\n",
    "\n",
    "max_depth_wig = widgets.Dropdown(options=[10, 20, 30, 50],\n",
    "                            description='The maximum depth of the Tree. :',\n",
    "                            style=style)\n",
    "\n",
    "display(max_depth_wig)\n",
    "\n",
    "min_split_wig = widgets.Dropdown(options=[100, 200, 300, 500],\n",
    "                            description='Minimum Number of Splits. :',\n",
    "                            style=style)\n",
    "\n",
    "display(min_split_wig)\n",
    "\n",
    "njobs_wig = widgets.Dropdown(options=[('One', 1), ('Two', 2), ('Three', 3), ('All Cores', -1)], \n",
    "                             description=\"Number of CPU Cores :\", style=style)\n",
    "\n",
    "display(njobs_wig)"
   ]
  },
  {
   "cell_type": "markdown",
   "metadata": {},
   "source": [
    "# Predict and Evaluate the Model "
   ]
  },
  {
   "cell_type": "code",
   "execution_count": 19,
   "metadata": {
    "colab": {},
    "colab_type": "code",
    "id": "8XbYFyk8oCrH"
   },
   "outputs": [
    {
     "name": "stdout",
     "output_type": "stream",
     "text": [
      "\n",
      "Predictions =  [3.54503887 0.         3.56879248 3.87939655 3.95756229 3.6807887\n",
      " 3.66398554 0.         3.60830999 3.64127765 3.7182231  3.48398278\n",
      " 3.46000722 3.51589607 3.93670961 3.80699215 3.46000722 3.86575764\n",
      " 3.70212581 3.84241046 3.77206634 3.95756229 0.         4.03187902\n",
      " 3.88403458 0.         3.92964719 3.60876824 3.69897015 3.88403458\n",
      " 3.89699302 0.         3.74429901 0.         3.94566807 3.55481571\n",
      " 3.78640349 3.90953195 3.51589607 3.53120748 3.75872353 3.58661093\n",
      " 3.7182231  3.87750686 3.79211844 3.79692687 3.97857743 3.91935965\n",
      " 3.62775912 3.95756229 3.94481764 3.64127765 3.79692687 3.69058669\n",
      " 3.733069   3.75872353 0.         3.84241046 3.82429559 3.48398278\n",
      " 3.88468407 3.91015059 3.90953195 0.         3.52619573 3.79818303\n",
      " 3.91935965 3.73768766 3.50409833 3.99419397 3.80918622 3.66958109\n",
      " 3.53120748 3.88853367 3.6807887  3.84825406 3.63608717 3.52347148\n",
      " 3.84870167 3.75872353 3.62658668 3.86575764 3.92842076 3.95042582\n",
      " 3.8141228  3.43614597 3.79211844 0.         3.88244982 3.8787879\n",
      " 3.82429559 3.53120748 0.         3.79692687 0.         3.48398278\n",
      " 3.527734   3.40320404 3.86607829 3.63608717 3.60752204 3.71830281\n",
      " 3.72750824 3.8555211  3.82429559 3.46792252 3.7182231  3.6807887\n",
      " 3.92635573 3.84241046 3.62114118 3.79211844 3.69058669 3.88468407\n",
      " 0.         3.87069709 3.43614597 3.90966355 3.72420308 3.7334906\n",
      " 3.86575764 0.         3.79692687 3.82429559 3.48398278 3.46854542\n",
      " 3.95042582 3.9250893  3.82429559 3.82880737 3.82198622 0.\n",
      " 3.66958109 3.88403458 3.61709629 3.76099118 3.79692687 3.48447452\n",
      " 3.82429559 3.77229264 3.88688823 3.8555211  3.73768766 0.\n",
      " 3.88403458 3.40619036 3.99824831 3.79837093 3.94581527 3.438608\n",
      " 3.39289219 0.         0.         3.64498263 0.         3.76497273\n",
      " 0.         0.         3.94487274 3.94269914 3.64498263 3.69897015\n",
      " 3.3637425  3.89338352 3.53953174 3.89365528 3.64127765 3.77030952\n",
      " 3.33062372 3.92635573 3.76929276 3.61554393 3.90033697 3.40320404\n",
      " 3.66899096 3.86575764 4.01882707 3.91935965 3.43614597 3.95872002\n",
      " 3.65778335 3.6807887  3.75901365 3.69058669 0.         3.64498263\n",
      " 3.72735874 3.46626508 3.53953174 3.86575764 0.         3.6815018\n",
      " 3.75901365 3.88450852 0.         3.86880741 3.72735874 3.69058669\n",
      " 3.91935965 3.73199109 3.61142098 3.84466889 3.85177833 3.81567324\n",
      " 3.8891659  3.86419451 3.75901365 0.         3.89338352 0.\n",
      " 3.48398278 3.78640349 3.6807887  0.         3.92245685 3.70102216\n",
      " 0.         0.         3.80699215 3.72735874 3.82429559 3.527734\n",
      " 3.88468407 0.         3.64498263 0.         3.78632728 3.88853367\n",
      " 3.88724213 3.99079229 0.         3.52619573 3.82429559 0.\n",
      " 0.         3.74735607 3.54503887 3.80234815 3.83527054 3.89225331\n",
      " 3.73768766 3.62775912 3.76929276 3.72750824 3.84466889 3.9250893\n",
      " 0.         3.46000722 3.77012584 3.87069709 3.9250893  3.54503887\n",
      " 3.53120748 0.         3.72604169 3.94269914 3.88468407 3.97034033\n",
      " 3.6807887  3.95756229 3.6807887  0.         3.897277   3.94487274\n",
      " 3.73768766 3.88724213 3.79841121 3.88247158 3.61554393 3.84870167\n",
      " 0.         3.85571234 3.54932973 3.72420308 3.62387198 3.92964719\n",
      " 3.63608717 3.89014343 3.9076072  3.67007283 3.8809889  3.79768017\n",
      " 3.8718871  3.88724213 3.60752204 3.94481764 0.         3.73066389\n",
      " 3.72750824 3.47218504 3.91503167 0.         0.         3.95756229\n",
      " 3.56879248 3.49869056 3.46626508 3.76929276 3.66781237 0.\n",
      " 3.89562071 3.79841121 0.         3.94269914 3.94487274 3.94269914\n",
      " 3.48398278 3.89338352 3.53953174 3.77229264 3.91935965 3.60752204\n",
      " 3.91935965 3.8088565  3.79211844 3.79841121 3.85809986 3.64498263\n",
      " 3.60752204 3.91935965 3.8749414  3.82860511 3.80699215 3.78340482\n",
      " 0.         3.46626508 3.9250893 ]\n"
     ]
    },
    {
     "name": "stderr",
     "output_type": "stream",
     "text": [
      "/Users/ritu/anaconda3/lib/python3.7/site-packages/sklearn/ensemble/forest.py:246: FutureWarning: The default value of n_estimators will change from 10 in version 0.20 to 100 in 0.22.\n",
      "  \"10 in version 0.20 to 100 in 0.22.\", FutureWarning)\n"
     ]
    }
   ],
   "source": [
    "# Train the Regressor with training set\n",
    "regressor = RandomForestRegressor(max_features=max_feat_wig.value,\n",
    "                                  max_depth=max_depth_wig.value,\n",
    "                                  min_samples_split=min_split_wig.value,\n",
    "                                  n_jobs=njobs_wig.value)\n",
    "\n",
    "#fit the linear model\n",
    "regressor.fit(X_train, y_train)\n",
    "\n",
    "#7 predict the outcome of test sets\n",
    "y_Pred = regressor.predict(X_test)\n",
    "print(\"\\nPredictions = \", y_Pred)"
   ]
  },
  {
   "cell_type": "code",
   "execution_count": 20,
   "metadata": {
    "colab": {},
    "colab_type": "code",
    "id": "ZAwiJVWuoHEX",
    "scrolled": false
   },
   "outputs": [
    {
     "name": "stdout",
     "output_type": "stream",
     "text": [
      "\n",
      "----------------------------\n",
      "RMLSE Score =  0.9568831399098394\n",
      "\n",
      "Actual vs Predicted Scores \n",
      "------------------------------\n",
      "\n"
     ]
    },
    {
     "data": {
      "text/html": [
       "<div>\n",
       "<style scoped>\n",
       "    .dataframe tbody tr th:only-of-type {\n",
       "        vertical-align: middle;\n",
       "    }\n",
       "\n",
       "    .dataframe tbody tr th {\n",
       "        vertical-align: top;\n",
       "    }\n",
       "\n",
       "    .dataframe thead th {\n",
       "        text-align: right;\n",
       "    }\n",
       "</style>\n",
       "<table border=\"1\" class=\"dataframe\">\n",
       "  <thead>\n",
       "    <tr style=\"text-align: right;\">\n",
       "      <th></th>\n",
       "      <th>Actual</th>\n",
       "      <th>Predicted</th>\n",
       "      <th>Abs. Error</th>\n",
       "    </tr>\n",
       "  </thead>\n",
       "  <tbody>\n",
       "    <tr>\n",
       "      <th>0</th>\n",
       "      <td>3.13</td>\n",
       "      <td>3.545039</td>\n",
       "      <td>0.415039</td>\n",
       "    </tr>\n",
       "    <tr>\n",
       "      <th>1</th>\n",
       "      <td>0.00</td>\n",
       "      <td>0.000000</td>\n",
       "      <td>0.000000</td>\n",
       "    </tr>\n",
       "    <tr>\n",
       "      <th>2</th>\n",
       "      <td>2.82</td>\n",
       "      <td>3.568792</td>\n",
       "      <td>0.748792</td>\n",
       "    </tr>\n",
       "    <tr>\n",
       "      <th>3</th>\n",
       "      <td>3.91</td>\n",
       "      <td>3.879397</td>\n",
       "      <td>0.030603</td>\n",
       "    </tr>\n",
       "    <tr>\n",
       "      <th>4</th>\n",
       "      <td>4.38</td>\n",
       "      <td>3.957562</td>\n",
       "      <td>0.422438</td>\n",
       "    </tr>\n",
       "    <tr>\n",
       "      <th>5</th>\n",
       "      <td>4.25</td>\n",
       "      <td>3.680789</td>\n",
       "      <td>0.569211</td>\n",
       "    </tr>\n",
       "    <tr>\n",
       "      <th>6</th>\n",
       "      <td>3.82</td>\n",
       "      <td>3.663986</td>\n",
       "      <td>0.156014</td>\n",
       "    </tr>\n",
       "    <tr>\n",
       "      <th>7</th>\n",
       "      <td>0.00</td>\n",
       "      <td>0.000000</td>\n",
       "      <td>0.000000</td>\n",
       "    </tr>\n",
       "    <tr>\n",
       "      <th>8</th>\n",
       "      <td>3.49</td>\n",
       "      <td>3.608310</td>\n",
       "      <td>0.118310</td>\n",
       "    </tr>\n",
       "    <tr>\n",
       "      <th>9</th>\n",
       "      <td>2.00</td>\n",
       "      <td>3.641278</td>\n",
       "      <td>1.641278</td>\n",
       "    </tr>\n",
       "    <tr>\n",
       "      <th>10</th>\n",
       "      <td>3.40</td>\n",
       "      <td>3.718223</td>\n",
       "      <td>0.318223</td>\n",
       "    </tr>\n",
       "    <tr>\n",
       "      <th>11</th>\n",
       "      <td>3.53</td>\n",
       "      <td>3.483983</td>\n",
       "      <td>0.046017</td>\n",
       "    </tr>\n",
       "    <tr>\n",
       "      <th>12</th>\n",
       "      <td>3.89</td>\n",
       "      <td>3.460007</td>\n",
       "      <td>0.429993</td>\n",
       "    </tr>\n",
       "    <tr>\n",
       "      <th>13</th>\n",
       "      <td>3.64</td>\n",
       "      <td>3.515896</td>\n",
       "      <td>0.124104</td>\n",
       "    </tr>\n",
       "    <tr>\n",
       "      <th>14</th>\n",
       "      <td>3.84</td>\n",
       "      <td>3.936710</td>\n",
       "      <td>0.096710</td>\n",
       "    </tr>\n",
       "    <tr>\n",
       "      <th>15</th>\n",
       "      <td>4.17</td>\n",
       "      <td>3.806992</td>\n",
       "      <td>0.363008</td>\n",
       "    </tr>\n",
       "    <tr>\n",
       "      <th>16</th>\n",
       "      <td>3.71</td>\n",
       "      <td>3.460007</td>\n",
       "      <td>0.249993</td>\n",
       "    </tr>\n",
       "    <tr>\n",
       "      <th>17</th>\n",
       "      <td>4.31</td>\n",
       "      <td>3.865758</td>\n",
       "      <td>0.444242</td>\n",
       "    </tr>\n",
       "    <tr>\n",
       "      <th>18</th>\n",
       "      <td>3.90</td>\n",
       "      <td>3.702126</td>\n",
       "      <td>0.197874</td>\n",
       "    </tr>\n",
       "    <tr>\n",
       "      <th>19</th>\n",
       "      <td>3.00</td>\n",
       "      <td>3.842410</td>\n",
       "      <td>0.842410</td>\n",
       "    </tr>\n",
       "    <tr>\n",
       "      <th>20</th>\n",
       "      <td>3.83</td>\n",
       "      <td>3.772066</td>\n",
       "      <td>0.057934</td>\n",
       "    </tr>\n",
       "    <tr>\n",
       "      <th>21</th>\n",
       "      <td>3.43</td>\n",
       "      <td>3.957562</td>\n",
       "      <td>0.527562</td>\n",
       "    </tr>\n",
       "    <tr>\n",
       "      <th>22</th>\n",
       "      <td>0.00</td>\n",
       "      <td>0.000000</td>\n",
       "      <td>0.000000</td>\n",
       "    </tr>\n",
       "    <tr>\n",
       "      <th>23</th>\n",
       "      <td>3.98</td>\n",
       "      <td>4.031879</td>\n",
       "      <td>0.051879</td>\n",
       "    </tr>\n",
       "    <tr>\n",
       "      <th>24</th>\n",
       "      <td>3.81</td>\n",
       "      <td>3.884035</td>\n",
       "      <td>0.074035</td>\n",
       "    </tr>\n",
       "    <tr>\n",
       "      <th>25</th>\n",
       "      <td>0.00</td>\n",
       "      <td>0.000000</td>\n",
       "      <td>0.000000</td>\n",
       "    </tr>\n",
       "    <tr>\n",
       "      <th>26</th>\n",
       "      <td>3.84</td>\n",
       "      <td>3.929647</td>\n",
       "      <td>0.089647</td>\n",
       "    </tr>\n",
       "    <tr>\n",
       "      <th>27</th>\n",
       "      <td>3.72</td>\n",
       "      <td>3.608768</td>\n",
       "      <td>0.111232</td>\n",
       "    </tr>\n",
       "    <tr>\n",
       "      <th>28</th>\n",
       "      <td>2.97</td>\n",
       "      <td>3.698970</td>\n",
       "      <td>0.728970</td>\n",
       "    </tr>\n",
       "    <tr>\n",
       "      <th>29</th>\n",
       "      <td>4.12</td>\n",
       "      <td>3.884035</td>\n",
       "      <td>0.235965</td>\n",
       "    </tr>\n",
       "    <tr>\n",
       "      <th>...</th>\n",
       "      <td>...</td>\n",
       "      <td>...</td>\n",
       "      <td>...</td>\n",
       "    </tr>\n",
       "    <tr>\n",
       "      <th>297</th>\n",
       "      <td>3.79</td>\n",
       "      <td>3.769293</td>\n",
       "      <td>0.020707</td>\n",
       "    </tr>\n",
       "    <tr>\n",
       "      <th>298</th>\n",
       "      <td>4.10</td>\n",
       "      <td>3.667812</td>\n",
       "      <td>0.432188</td>\n",
       "    </tr>\n",
       "    <tr>\n",
       "      <th>299</th>\n",
       "      <td>0.00</td>\n",
       "      <td>0.000000</td>\n",
       "      <td>0.000000</td>\n",
       "    </tr>\n",
       "    <tr>\n",
       "      <th>300</th>\n",
       "      <td>4.28</td>\n",
       "      <td>3.895621</td>\n",
       "      <td>0.384379</td>\n",
       "    </tr>\n",
       "    <tr>\n",
       "      <th>301</th>\n",
       "      <td>3.67</td>\n",
       "      <td>3.798411</td>\n",
       "      <td>0.128411</td>\n",
       "    </tr>\n",
       "    <tr>\n",
       "      <th>302</th>\n",
       "      <td>0.00</td>\n",
       "      <td>0.000000</td>\n",
       "      <td>0.000000</td>\n",
       "    </tr>\n",
       "    <tr>\n",
       "      <th>303</th>\n",
       "      <td>3.94</td>\n",
       "      <td>3.942699</td>\n",
       "      <td>0.002699</td>\n",
       "    </tr>\n",
       "    <tr>\n",
       "      <th>304</th>\n",
       "      <td>4.35</td>\n",
       "      <td>3.944873</td>\n",
       "      <td>0.405127</td>\n",
       "    </tr>\n",
       "    <tr>\n",
       "      <th>305</th>\n",
       "      <td>3.94</td>\n",
       "      <td>3.942699</td>\n",
       "      <td>0.002699</td>\n",
       "    </tr>\n",
       "    <tr>\n",
       "      <th>306</th>\n",
       "      <td>3.43</td>\n",
       "      <td>3.483983</td>\n",
       "      <td>0.053983</td>\n",
       "    </tr>\n",
       "    <tr>\n",
       "      <th>307</th>\n",
       "      <td>4.08</td>\n",
       "      <td>3.893384</td>\n",
       "      <td>0.186616</td>\n",
       "    </tr>\n",
       "    <tr>\n",
       "      <th>308</th>\n",
       "      <td>3.61</td>\n",
       "      <td>3.539532</td>\n",
       "      <td>0.070468</td>\n",
       "    </tr>\n",
       "    <tr>\n",
       "      <th>309</th>\n",
       "      <td>4.47</td>\n",
       "      <td>3.772293</td>\n",
       "      <td>0.697707</td>\n",
       "    </tr>\n",
       "    <tr>\n",
       "      <th>310</th>\n",
       "      <td>3.83</td>\n",
       "      <td>3.919360</td>\n",
       "      <td>0.089360</td>\n",
       "    </tr>\n",
       "    <tr>\n",
       "      <th>311</th>\n",
       "      <td>3.15</td>\n",
       "      <td>3.607522</td>\n",
       "      <td>0.457522</td>\n",
       "    </tr>\n",
       "    <tr>\n",
       "      <th>312</th>\n",
       "      <td>3.96</td>\n",
       "      <td>3.919360</td>\n",
       "      <td>0.040640</td>\n",
       "    </tr>\n",
       "    <tr>\n",
       "      <th>313</th>\n",
       "      <td>3.71</td>\n",
       "      <td>3.808857</td>\n",
       "      <td>0.098857</td>\n",
       "    </tr>\n",
       "    <tr>\n",
       "      <th>314</th>\n",
       "      <td>4.25</td>\n",
       "      <td>3.792118</td>\n",
       "      <td>0.457882</td>\n",
       "    </tr>\n",
       "    <tr>\n",
       "      <th>315</th>\n",
       "      <td>3.50</td>\n",
       "      <td>3.798411</td>\n",
       "      <td>0.298411</td>\n",
       "    </tr>\n",
       "    <tr>\n",
       "      <th>316</th>\n",
       "      <td>4.04</td>\n",
       "      <td>3.858100</td>\n",
       "      <td>0.181900</td>\n",
       "    </tr>\n",
       "    <tr>\n",
       "      <th>317</th>\n",
       "      <td>4.00</td>\n",
       "      <td>3.644983</td>\n",
       "      <td>0.355017</td>\n",
       "    </tr>\n",
       "    <tr>\n",
       "      <th>318</th>\n",
       "      <td>3.52</td>\n",
       "      <td>3.607522</td>\n",
       "      <td>0.087522</td>\n",
       "    </tr>\n",
       "    <tr>\n",
       "      <th>319</th>\n",
       "      <td>4.39</td>\n",
       "      <td>3.919360</td>\n",
       "      <td>0.470640</td>\n",
       "    </tr>\n",
       "    <tr>\n",
       "      <th>320</th>\n",
       "      <td>3.77</td>\n",
       "      <td>3.874941</td>\n",
       "      <td>0.104941</td>\n",
       "    </tr>\n",
       "    <tr>\n",
       "      <th>321</th>\n",
       "      <td>4.15</td>\n",
       "      <td>3.828605</td>\n",
       "      <td>0.321395</td>\n",
       "    </tr>\n",
       "    <tr>\n",
       "      <th>322</th>\n",
       "      <td>2.96</td>\n",
       "      <td>3.806992</td>\n",
       "      <td>0.846992</td>\n",
       "    </tr>\n",
       "    <tr>\n",
       "      <th>323</th>\n",
       "      <td>4.13</td>\n",
       "      <td>3.783405</td>\n",
       "      <td>0.346595</td>\n",
       "    </tr>\n",
       "    <tr>\n",
       "      <th>324</th>\n",
       "      <td>0.00</td>\n",
       "      <td>0.000000</td>\n",
       "      <td>0.000000</td>\n",
       "    </tr>\n",
       "    <tr>\n",
       "      <th>325</th>\n",
       "      <td>4.05</td>\n",
       "      <td>3.466265</td>\n",
       "      <td>0.583735</td>\n",
       "    </tr>\n",
       "    <tr>\n",
       "      <th>326</th>\n",
       "      <td>4.14</td>\n",
       "      <td>3.925089</td>\n",
       "      <td>0.214911</td>\n",
       "    </tr>\n",
       "  </tbody>\n",
       "</table>\n",
       "<p>327 rows × 3 columns</p>\n",
       "</div>"
      ],
      "text/plain": [
       "     Actual  Predicted  Abs. Error\n",
       "0      3.13   3.545039    0.415039\n",
       "1      0.00   0.000000    0.000000\n",
       "2      2.82   3.568792    0.748792\n",
       "3      3.91   3.879397    0.030603\n",
       "4      4.38   3.957562    0.422438\n",
       "5      4.25   3.680789    0.569211\n",
       "6      3.82   3.663986    0.156014\n",
       "7      0.00   0.000000    0.000000\n",
       "8      3.49   3.608310    0.118310\n",
       "9      2.00   3.641278    1.641278\n",
       "10     3.40   3.718223    0.318223\n",
       "11     3.53   3.483983    0.046017\n",
       "12     3.89   3.460007    0.429993\n",
       "13     3.64   3.515896    0.124104\n",
       "14     3.84   3.936710    0.096710\n",
       "15     4.17   3.806992    0.363008\n",
       "16     3.71   3.460007    0.249993\n",
       "17     4.31   3.865758    0.444242\n",
       "18     3.90   3.702126    0.197874\n",
       "19     3.00   3.842410    0.842410\n",
       "20     3.83   3.772066    0.057934\n",
       "21     3.43   3.957562    0.527562\n",
       "22     0.00   0.000000    0.000000\n",
       "23     3.98   4.031879    0.051879\n",
       "24     3.81   3.884035    0.074035\n",
       "25     0.00   0.000000    0.000000\n",
       "26     3.84   3.929647    0.089647\n",
       "27     3.72   3.608768    0.111232\n",
       "28     2.97   3.698970    0.728970\n",
       "29     4.12   3.884035    0.235965\n",
       "..      ...        ...         ...\n",
       "297    3.79   3.769293    0.020707\n",
       "298    4.10   3.667812    0.432188\n",
       "299    0.00   0.000000    0.000000\n",
       "300    4.28   3.895621    0.384379\n",
       "301    3.67   3.798411    0.128411\n",
       "302    0.00   0.000000    0.000000\n",
       "303    3.94   3.942699    0.002699\n",
       "304    4.35   3.944873    0.405127\n",
       "305    3.94   3.942699    0.002699\n",
       "306    3.43   3.483983    0.053983\n",
       "307    4.08   3.893384    0.186616\n",
       "308    3.61   3.539532    0.070468\n",
       "309    4.47   3.772293    0.697707\n",
       "310    3.83   3.919360    0.089360\n",
       "311    3.15   3.607522    0.457522\n",
       "312    3.96   3.919360    0.040640\n",
       "313    3.71   3.808857    0.098857\n",
       "314    4.25   3.792118    0.457882\n",
       "315    3.50   3.798411    0.298411\n",
       "316    4.04   3.858100    0.181900\n",
       "317    4.00   3.644983    0.355017\n",
       "318    3.52   3.607522    0.087522\n",
       "319    4.39   3.919360    0.470640\n",
       "320    3.77   3.874941    0.104941\n",
       "321    4.15   3.828605    0.321395\n",
       "322    2.96   3.806992    0.846992\n",
       "323    4.13   3.783405    0.346595\n",
       "324    0.00   0.000000    0.000000\n",
       "325    4.05   3.466265    0.583735\n",
       "326    4.14   3.925089    0.214911\n",
       "\n",
       "[327 rows x 3 columns]"
      ]
     },
     "execution_count": 20,
     "metadata": {},
     "output_type": "execute_result"
    }
   ],
   "source": [
    "# Calculating score from Root Mean Log Squared Error\n",
    "def rmlse(y_test, y_pred):\n",
    "    error = np.square(np.log10(y_pred +1) - np.log10(y_test +1)).mean() ** 0.5\n",
    "    score = 1 - error\n",
    "    return score\n",
    "\n",
    "# Printing the score\n",
    "print(\"\\n----------------------------\\nRMLSE Score = \", rmlse(y_test, y_Pred))\n",
    "\n",
    "#9 Comparing Actual and Predicted Salaries for he test set\n",
    "print(\"\\nActual vs Predicted Scores \\n------------------------------\\n\")\n",
    "error_df = pd.DataFrame({\"Actual\" : y_test,\n",
    "                         \"Predicted\" : y_Pred,\n",
    "                         \"Abs. Error\" : np.abs(y_test - y_Pred)})\n",
    "\n",
    "error_df"
   ]
  },
  {
   "cell_type": "markdown",
   "metadata": {},
   "source": [
    "# Feature Importance"
   ]
  },
  {
   "cell_type": "code",
   "execution_count": 21,
   "metadata": {},
   "outputs": [
    {
     "data": {
      "image/png": "[encoded data removed]",
      "text/plain": [
       "<Figure size 1152x648 with 1 Axes>"
      ]
     },
     "metadata": {
      "needs_background": "light"
     },
     "output_type": "display_data"
    }
   ],
   "source": [
    "feat_names = [col for col in dataset.columns if col not in ('Score')]\n",
    "\n",
    "pd.Series(regressor.feature_importances_, \\\n",
    "          index=feat_names).sort_values(ascending=True).plot(kind='barh', figsize=(16,9));\n",
    "\n",
    "plt.title('Feature Importance Random Forest Regressor');"
   ]
  },
  {
   "cell_type": "markdown",
   "metadata": {},
   "source": [
    "# Actual vs. Predicted "
   ]
  },
  {
   "cell_type": "code",
   "execution_count": 22,
   "metadata": {},
   "outputs": [
    {
     "data": {
      "image/png": "[encoded data removed]",
      "text/plain": [
       "<Figure size 1152x648 with 1 Axes>"
      ]
     },
     "metadata": {
      "needs_background": "light"
     },
     "output_type": "display_data"
    }
   ],
   "source": [
    "#Plotting Actual observation vs Predictions\n",
    "plt.figure(figsize=(16, 9));\n",
    "plt.scatter(y_test, y_Pred, s = 70)\n",
    "plt.xlabel('Actual');\n",
    "plt.ylabel('Predicted');\n",
    "plt.grid();\n",
    "plt.show();"
   ]
  },
  {
   "cell_type": "code",
   "execution_count": null,
   "metadata": {},
   "outputs": [],
   "source": []
  }
 ],
 "metadata": {
  "colab": {
   "collapsed_sections": [],
   "name": "LinearRegression.ipynb",
   "provenance": []
  },
  "kernelspec": {
   "display_name": "Python 3",
   "language": "python",
   "name": "python3"
  }
 },
 "nbformat": 4,
 "nbformat_minor": 1
}
